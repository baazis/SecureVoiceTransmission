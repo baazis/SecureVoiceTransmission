{
 "cells": [
  {
   "cell_type": "code",
   "execution_count": 3,
   "metadata": {},
   "outputs": [
    {
     "name": "stdout",
     "output_type": "stream",
     "text": [
      "Enter prime 1 \n",
      "31\n",
      "Enter prime 2 \n",
      "37\n",
      "Enter prime 3 \n",
      "43\n",
      "n = p * q * r = 49321\n",
      "\n",
      "Euler's function (totient) [phi(n)]: 45360\n",
      "\n",
      "34021\n",
      "public key =  11341 49321\n",
      "private key=  34021 49321\n",
      "Enter a message to encrypt: network\n",
      "\n",
      "Plain message: network\n",
      "\n",
      "Encrypted message: 杖挱ቅꮝo险⁩\n",
      "\n",
      "Decrypted message: network\n",
      "\n",
      "Sender Authenticated! Message sent is genuine.\n"
     ]
    }
   ],
   "source": [
    "#Socket programming is started by importing the socket library and making a simple socket.\n",
    "import socket\n",
    "s=socket.socket()\n",
    "#importing the RSA,hashing and salting function to integrate with our socket connection\n",
    "import speech_recognition as sr\n",
    "import RSA_cryptoproj  as cry\n",
    "import HashingAndSalting as hs\n",
    "import hashlib\n"
   ]
  },
  {
   "cell_type": "code",
   "execution_count": null,
   "metadata": {},
   "outputs": [],
   "source": [
    "r = sr.Recognizer()\n",
    "with sr.Microphone() as source:\n",
    "    print(\"Say something!\")\n",
    "    audio = r.listen(source)\n",
    "    try:\n",
    "    # for testing purposes, we're just using the default API key\n",
    "    # to use another API key, use `r.recognize_google(audio, key=\"GOOGLE_SPEECH_RECOGNITION_API_KEY\")`\n",
    "    # instead of `r.recognize_google(audio)`\n",
    "        print(\"You said: \" + r.recognize_google(audio))\n",
    "    except sr.UnknownValueError:\n",
    "        print(\"Google Speech Recognition could not understand audio\")\n",
    "    text=r.recognize_google(audio)\n",
    "    print(text)"
   ]
  },
  {
   "cell_type": "code",
   "execution_count": 15,
   "metadata": {},
   "outputs": [
    {
     "name": "stdout",
     "output_type": "stream",
     "text": [
      "Socket successfully created\n",
      "Say something!\n",
      "socket is listening\n",
      "You said: the centre will be starting the socket hello\n",
      "the centre will be starting the socket hello\n",
      "e鉙z⨥i挱oቅi挱sꮝh纨a⨥n挱e篹z㞝iቅo杖i⨥s鉙h⨥aon⁩eቅz鉙i纨oo\n",
      "ቅ鉙挱⨥㊙挱杖ቅ险挱⨥ꮝ㔶纨纨⨥㤃挱⨥篹ቅ㞝险ቅ㔶杖汽⨥ቅ鉙挱⨥篹o㊙⁩挱ቅ⨥鉙挱纨纨o\n"
     ]
    }
   ],
   "source": [
    "# reserving a port on our computer in our case it is 1234 but it can be anything \n",
    "port=1234\n",
    "ip=\"192.168.42.53\"\n",
    "# creating a socket object \n",
    "client = socket.socket(socket.AF_INET, socket.SOCK_STREAM)\n",
    "print (\"Socket successfully created\")\n",
    "# Next binding to the port to let the server listen to requests\n",
    "client.connect((ip, port))\n",
    "#Initialize the recognizer\n",
    "r = sr.Recognizer()\n",
    "#use the microphone as source for input.\n",
    "with sr.Microphone() as source:\n",
    "    print(\"Say something!\")\n",
    "    # putting the socket into listening mode for any audio from microphone \n",
    "    #listens for the user's input\n",
    "    audio = r.listen(source)\n",
    "    print (\"socket is listening\") \n",
    "    try:\n",
    "    # for testing purposes, we're just using the default API key\n",
    "    # to use another API key, use `r.recognize_google(audio, key=\"GOOGLE_SPEECH_RECOGNITION_API_KEY\")`\n",
    "    # instead of `r.recognize_google(audio)`\n",
    "        print(\"You said: \" + r.recognize_google(audio))\n",
    "    except sr.UnknownValueError:\n",
    "        print(\"Google Speech Recognition could not understand audio\")\n",
    "    text=r.recognize_google(audio)\n",
    "    print(text)\n",
    "    enc=cry.encrypt_string(text)\n",
    "    encrypted_salted_text = hs.salt(enc)\n",
    "    print(encrypted_salted_text)\n",
    "#hashing done through SHA-256 algorithm\n",
    "    Sender_HASH = hashlib.sha256(encrypted_salted_text.encode()).hexdigest()\n",
    "    client.send(enc.encode())\n",
    "    print(enc)\n",
    "    client.send(Sender_HASH.encode())"
   ]
  },
  {
   "cell_type": "code",
   "execution_count": null,
   "metadata": {},
   "outputs": [],
   "source": []
  }
 ],
 "metadata": {
  "kernelspec": {
   "display_name": "Python 3",
   "language": "python",
   "name": "python3"
  }
 },
 "nbformat": 4,
 "nbformat_minor": 2
}
