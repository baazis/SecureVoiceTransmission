{
 "cells": [
  {
   "cell_type": "code",
   "execution_count": null,
   "metadata": {},
   "outputs": [],
   "source": [
    "#Socket programming is started by importing the socket library and making a simple socket.\n",
    "import socket\n",
    "import subprocess as sp \n",
    "import pyttsx3 \n",
    "s=socket.socket()\n",
    "# reserving a port on our computer in our case it is 1234 but it can be anything \n",
    "port= 1234\n",
    "ip= \"192.168.42.53\"\n",
    "# Next binding to the port to let the server listen to requests\n",
    "s.bind((ip,port)) \n",
    "# putting the socket into listening mode\n",
    "s.listen() \n",
    "cl,addr= s.accept() \n",
    "voice=pyttsx3.init() \n",
    "voice.setProperty('rate',150) \n",
    "while True:\n",
    "    data=cl.recv(1024) \n",
    "    talk=data.decode() \n",
    "    voice.say(talk) \n",
    "    voice.runAndWait()\n",
    "    print(talk)"
   ]
  },
  {
   "cell_type": "code",
   "execution_count": null,
   "metadata": {},
   "outputs": [],
   "source": []
  }
 ],
 "metadata": {
  "kernelspec": {
   "display_name": "Python 3",
   "language": "python",
   "name": "python3"
  },
  "language_info": {
   "codemirror_mode": {
    "name": "ipython",
    "version": 3
   },
   "file_extension": ".py",
   "mimetype": "text/x-python",
   "name": "python",
   "nbconvert_exporter": "python",
   "pygments_lexer": "ipython3",
   "version": "3.8.5"
  }
 },
 "nbformat": 4,
 "nbformat_minor": 4
}
